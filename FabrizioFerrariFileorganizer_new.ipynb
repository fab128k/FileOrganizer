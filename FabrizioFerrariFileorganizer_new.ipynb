{
 "cells": [
  {
   "cell_type": "code",
   "execution_count": 1,
   "metadata": {},
   "outputs": [],
   "source": [
    "#import le librerie\n",
    "import os\n",
    "import  shutil\n",
    "import csv"
   ]
  },
  {
   "cell_type": "code",
   "execution_count": 2,
   "metadata": {},
   "outputs": [],
   "source": [
    "#mi sposto nella cartella files\n",
    "os.chdir('files')"
   ]
  },
  {
   "cell_type": "code",
   "execution_count": 4,
   "metadata": {},
   "outputs": [],
   "source": [
    "#creo le sottocartelle\n",
    "for dirname in ['images', 'docs', 'audio']:\n",
    "    if not os.path.exists(dirname):\n",
    "        os.makedirs(dirname)\n",
    "\n",
    "#creo dizionario con le liste dei formati accettati\n",
    "dict_file = {'img_ext': ['.png', '.jpeg', '.jpg'], 'doc_ext': ['.txt', '.odt'], 'audio_ext': ['.mp3']}\n",
    "\n",
    "\n",
    "#se il file di recup non esiste lo creo e scrivo gli header del csv\n",
    "if not os.path.exists('recap.csv'):\n",
    "    fields = ['name', 'type', 'size(B)']\n",
    "    with open('recap.csv', 'w', newline='') as csvfile:\n",
    "        csvwriter = csv.writer(csvfile)\n",
    "        csvwriter.writerow(fields)\n",
    "\n",
    "else: #se recup.csv esiste già lo apro in append mode         \n",
    "    with open('recap.csv', 'a', newline='') as csvfile:\n",
    "        csvwriter = csv.writer(csvfile)\n",
    "\n",
    "        #itero nella cartella files\n",
    "        for f in sorted(os.listdir('.')):\n",
    "            \n",
    "            #separo nome file ed estensione\n",
    "            name, ext = os.path.splitext(f)\n",
    "            \n",
    "            if ext in dict_file['img_ext']:#verifico estensione\n",
    "                size = os.path.getsize(f)#calcolo le dimensioni del file\n",
    "                print(f'{name} type:image size:{size}B')#stampo le info del file\n",
    "                csvwriter.writerow([name, 'image', size])#appendo le info del file a recup.csv\n",
    "                shutil.move(f, 'images/')#sposto il file nella relativa sottocartella\n",
    "\n",
    "            elif ext in dict_file['doc_ext']:\n",
    "                size = os.path.getsize(f)\n",
    "                print(f'{name} type:doc size:{size}B')\n",
    "                csvwriter.writerow([name, 'doc', size])\n",
    "                shutil.move(f, 'docs/')\n",
    "\n",
    "            elif ext in dict_file['audio_ext']:\n",
    "                size = os.path.getsize(f)\n",
    "                print(f'{name} type:audio size:{size}B')\n",
    "                csvwriter.writerow([name, 'audio', size])\n",
    "                shutil.move(f, 'audio/')\n",
    "\n",
    "            else:\n",
    "                if os.path.isfile(f):\n",
    "                    print(f'Not accepted format for file {f}')\n",
    "                else:\n",
    "                    pass\n"
   ]
  },
  {
   "cell_type": "code",
   "execution_count": 5,
   "metadata": {},
   "outputs": [],
   "source": [
    "from PIL import Image\n",
    "from tabulate import tabulate\n",
    "import numpy as np"
   ]
  },
  {
   "cell_type": "code",
   "execution_count": 6,
   "metadata": {},
   "outputs": [
    {
     "name": "stdout",
     "output_type": "stream",
     "text": [
      "╒══════════╤══════════╤═════════╤═════════════╤════════╤════════╤═══════╤═════════╕\n",
      "│ name     │   height │   width │   grayscale │      R │      G │     B │   ALPHA │\n",
      "╞══════════╪══════════╪═════════╪═════════════╪════════╪════════╪═══════╪═════════╡\n",
      "│ bw       │      512 │     512 │       21.48 │   0.00 │   0.00 │  0.00 │    0.00 │\n",
      "├──────────┼──────────┼─────────┼─────────────┼────────┼────────┼───────┼─────────┤\n",
      "│ daffodil │      500 │     335 │        0.00 │ 109.25 │  85.56 │  4.97 │    0.00 │\n",
      "├──────────┼──────────┼─────────┼─────────────┼────────┼────────┼───────┼─────────┤\n",
      "│ eclipse  │      256 │     256 │        0.00 │ 109.05 │ 109.52 │ 39.85 │  133.59 │\n",
      "├──────────┼──────────┼─────────┼─────────────┼────────┼────────┼───────┼─────────┤\n",
      "│ trump    │      183 │     275 │        0.00 │  97.01 │  98.99 │ 90.92 │    0.00 │\n",
      "╘══════════╧══════════╧═════════╧═════════════╧════════╧════════╧═══════╧═════════╛\n"
     ]
    }
   ],
   "source": [
    "table = []#creo lista per la tabella\n",
    "\n",
    "#itero nella cartella images        \n",
    "for img_name in sorted(os.listdir('images')):\n",
    "    #creo il percorso per caricare l'immaggine\n",
    "    img = Image.open(os.path.join('images', img_name))\n",
    "    #creo l'array dell'immaggine\n",
    "    img_array = np.array(img)\n",
    "    \n",
    "    #calcolo altezza e larghezza\n",
    "    pixel_y, pixel_x = img_array.shape[:2]\n",
    "    \n",
    "    #caso scala di grigio\n",
    "    if img_array.ndim == 2:\n",
    "        mean_gs = img_array.mean()#media dei valori dell'unico livello di colore\n",
    "        mean_r, mean_g, mean_b = 0, 0, 0 #non esistono altri lvelli\n",
    "        mean_alpha = 0\n",
    "    \n",
    "    #caso RGB o RGBA: ho una dimensione aggiuntiva per i canali di colore (e quello di trasparenza)\n",
    "    else:\n",
    "        mean_gs = 0\n",
    "        \n",
    "        channel_mean = img_array.mean(axis=0).mean(axis=0)\n",
    "        if len(channel_mean) == 3:#caso RGB con solo i tre livelli di colore\n",
    "            mean_r, mean_g, mean_b = channel_mean\n",
    "            mean_alpha = 0\n",
    "        else:\n",
    "            mean_r, mean_g, mean_b, mean_alpha = channel_mean\n",
    "    \n",
    "    \n",
    "    #separo nome ed estensione\n",
    "    name, ext = os.path.splitext(img_name)\n",
    "    #creo gli argomenti della lista table\n",
    "    row = [name, pixel_y, pixel_x, mean_gs, mean_r, mean_g, mean_b, mean_alpha]\n",
    "    \n",
    "    #aggiungo riga atabella\n",
    "    table += [row]\n",
    "\n",
    "#stampo tabella con tabulate\n",
    "print(tabulate(table, headers=['name', 'height', 'width', 'grayscale', 'R', 'G', 'B', 'ALPHA'],\n",
    "               tablefmt='fancy_grid', numalign='right', floatfmt='.2f'))\n",
    "\n",
    "\n"
   ]
  }
 ],
 "metadata": {
  "kernelspec": {
   "display_name": "Python 3",
   "language": "python",
   "name": "python3"
  },
  "language_info": {
   "codemirror_mode": {
    "name": "ipython",
    "version": 3
   },
   "file_extension": ".py",
   "mimetype": "text/x-python",
   "name": "python",
   "nbconvert_exporter": "python",
   "pygments_lexer": "ipython3",
   "version": "3.8.5"
  }
 },
 "nbformat": 4,
 "nbformat_minor": 4
}
